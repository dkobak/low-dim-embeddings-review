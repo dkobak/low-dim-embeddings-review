{
 "cells": [
  {
   "cell_type": "markdown",
   "id": "13a0f002",
   "metadata": {},
   "source": [
    "# PCA of the turtles dataset from \"Size and shape variation in the painted turtle. A principal component analysis\"\n",
    "https://pubmed.ncbi.nlm.nih.gov/13790416/"
   ]
  },
  {
   "cell_type": "code",
   "execution_count": 1,
   "id": "4d624e36",
   "metadata": {},
   "outputs": [],
   "source": [
    "import numpy as np\n",
    "import pylab as plt\n",
    "\n",
    "from sklearn.decomposition import PCA\n",
    "\n",
    "plt.style.use('mpl_style.txt')"
   ]
  },
  {
   "cell_type": "code",
   "execution_count": 2,
   "id": "dc5239fe",
   "metadata": {},
   "outputs": [],
   "source": [
    "X = '''F     98    81     38\n",
    "  F    103    84     38\n",
    "  F    103    86     42\n",
    "  F    105    86     42\n",
    "  F    109    88     44\n",
    "  F    123    92     50\n",
    "  F    123    95     46\n",
    "  F    133    99     51\n",
    "  F    133   102     51\n",
    "  F    133   102     51\n",
    "  F    134   100     48\n",
    "  F    136   102     49\n",
    "  F    138    98     51\n",
    "  F    138    99     51\n",
    "  F    141   105     53\n",
    "  F    147   108     57\n",
    "  F    149   107     55\n",
    "  F    153   107     56\n",
    "  F    155   115     63\n",
    "  F    155   117     60\n",
    "  F    158   115     62\n",
    "  F    159   118     63\n",
    "  F    162   124     61\n",
    "  F    177   132     67\n",
    "  M     93    74     37\n",
    "  M     94    78     35\n",
    "  M     96    80     35\n",
    "  M    101    84     39\n",
    "  M    102    85     38\n",
    "  M    103    81     37\n",
    "  M    104    83     39\n",
    "  M    106    83     39\n",
    "  M    107    82     38\n",
    "  M    112    89     40\n",
    "  M    113    88     40\n",
    "  M    114    86     40\n",
    "  M    116    90     43\n",
    "  M    117    90     41\n",
    "  M    117    91     41\n",
    "  M    119    93     41\n",
    "  M    120    89     40\n",
    "  M    121    93     44\n",
    "  M    121    95     42\n",
    "  M    125    93     45\n",
    "  M    127    96     45\n",
    "  M    128    95     45\n",
    "  M    131    95     46\n",
    "  M    135   106     47'''.split('\\n')\n",
    "\n",
    "X = [[xx.strip() for xx in x.split()] for x in X]\n",
    "\n",
    "X = np.array(X)\n",
    "g = X[:, 0]\n",
    "X = X[:, 1:].astype(float)\n",
    "\n",
    "pca = PCA()\n",
    "Z = pca.fit_transform(X)\n",
    "\n",
    "expl_var = pca.explained_variance_ratio_"
   ]
  },
  {
   "cell_type": "code",
   "execution_count": 3,
   "id": "9dd68367",
   "metadata": {},
   "outputs": [
    {
     "data": {
      "image/png": "[encoded data removed]",
      "text/plain": [
       "<Figure size 472.5x229.5 with 2 Axes>"
      ]
     },
     "metadata": {},
     "output_type": "display_data"
    }
   ],
   "source": [
    "fig, axs = plt.subplots(ncols=2, figsize=(3.5, 1.7))\n",
    "\n",
    "axs[0].set_aspect('equal')\n",
    "axs[0].scatter(Z[g == 'F', 0], Z[g == 'F', 1], label='female', clip_on=False)\n",
    "axs[0].scatter(Z[g == 'M', 0], Z[g == 'M', 1], label='male', clip_on=False)\n",
    "axs[0].set_xlabel(f'PC1 [mm], {expl_var[0]:.1%} expl. var.')\n",
    "axs[0].set_ylabel(f'PC2 [mm], {expl_var[1]:.1%} expl. var.')\n",
    "axs[0].legend(frameon=True)\n",
    "axs[0].set_xlim([-70, 70])\n",
    "axs[0].set_ylim([-70, 70])\n",
    "axs[0].set_xticks([-60, -30, 0, 30, 60])\n",
    "axs[0].set_yticks([-60, -30, 0, 30, 60])\n",
    "\n",
    "axs[1].set_aspect('equal')\n",
    "axs[1].scatter(Z[g == 'F', 1], Z[g == 'F', 2], clip_on=False)\n",
    "axs[1].scatter(Z[g == 'M', 1], Z[g == 'M', 2], clip_on=False)\n",
    "axs[1].set_xlabel(f'PC2 [mm], {expl_var[1]:.1%} expl. var.')\n",
    "axs[1].set_ylabel(f'PC3 [mm], {expl_var[2]:.1%} expl. var.')\n",
    "axs[1].set_xlim([-5, 5])\n",
    "axs[1].set_ylim([-5, 5])\n",
    "axs[1].set_xticks([-4, -2, 0, 2, 4])\n",
    "axs[1].set_yticks([-4, -2, 0, 2, 4])\n",
    "\n",
    "fig.savefig('../figures/turtles.pdf')\n",
    "fig.savefig('../figures/turtles.png', dpi=300)"
   ]
  }
 ],
 "metadata": {
  "kernelspec": {
   "display_name": "Python 3 (ipykernel)",
   "language": "python",
   "name": "python3"
  },
  "language_info": {
   "codemirror_mode": {
    "name": "ipython",
    "version": 3
   },
   "file_extension": ".py",
   "mimetype": "text/x-python",
   "name": "python",
   "nbconvert_exporter": "python",
   "pygments_lexer": "ipython3",
   "version": "3.13.2"
  }
 },
 "nbformat": 4,
 "nbformat_minor": 5
}
