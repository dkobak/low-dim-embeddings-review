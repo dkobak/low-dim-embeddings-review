{
 "cells": [
  {
   "cell_type": "code",
   "execution_count": 1,
   "id": "6f94e6f8",
   "metadata": {},
   "outputs": [
    {
     "name": "stderr",
     "output_type": "stream",
     "text": [
      "/Users/leland/anaconda3/envs/phate/lib/python3.11/site-packages/tqdm/auto.py:21: TqdmWarning: IProgress not found. Please update jupyter and ipywidgets. See https://ipywidgets.readthedocs.io/en/stable/user_install.html\n",
      "  from .autonotebook import tqdm as notebook_tqdm\n"
     ]
    }
   ],
   "source": [
    "import datasets\n",
    "import numpy as np\n",
    "import umap\n",
    "import openTSNE\n",
    "import sklearn.decomposition\n",
    "import SQuaD_MDS\n",
    "import phate"
   ]
  },
  {
   "cell_type": "code",
   "execution_count": 2,
   "id": "ce7bbeaa",
   "metadata": {},
   "outputs": [],
   "source": [
    "docs = datasets.load_dataset(f\"Cohere/wikipedia-22-12-simple-embeddings\", split=\"train\")"
   ]
  },
  {
   "cell_type": "code",
   "execution_count": 3,
   "id": "7c0c6e6f",
   "metadata": {},
   "outputs": [],
   "source": [
    "wikipedia_vectors = np.asarray(docs['emb'])"
   ]
  },
  {
   "cell_type": "code",
   "execution_count": 4,
   "id": "74192c4e",
   "metadata": {},
   "outputs": [
    {
     "data": {
      "text/plain": [
       "(485859, 768)"
      ]
     },
     "execution_count": 4,
     "metadata": {},
     "output_type": "execute_result"
    }
   ],
   "source": [
    "wikipedia_vectors.shape"
   ]
  },
  {
   "cell_type": "code",
   "execution_count": 5,
   "id": "9fff4629",
   "metadata": {},
   "outputs": [
    {
     "data": {
      "text/plain": [
       "False"
      ]
     },
     "execution_count": 5,
     "metadata": {},
     "output_type": "execute_result"
    }
   ],
   "source": [
    "np.allclose(np.linalg.norm(wikipedia_vectors, axis=1), 1.0)"
   ]
  },
  {
   "cell_type": "code",
   "execution_count": 6,
   "id": "8744321b",
   "metadata": {},
   "outputs": [
    {
     "data": {
      "text/plain": [
       "array([13.46731907, 13.41383776, 13.0557906 , ..., 14.24729346,\n",
       "       14.5828553 , 15.07801916])"
      ]
     },
     "execution_count": 6,
     "metadata": {},
     "output_type": "execute_result"
    }
   ],
   "source": [
    "np.linalg.norm(wikipedia_vectors, axis=1)"
   ]
  },
  {
   "cell_type": "code",
   "execution_count": 11,
   "id": "583a9e7d",
   "metadata": {},
   "outputs": [
    {
     "name": "stdout",
     "output_type": "stream",
     "text": [
      "CPU times: user 42min 15s, sys: 36.7 s, total: 42min 51s\n",
      "Wall time: 1h 1min 14s\n"
     ]
    }
   ],
   "source": [
    "%%time\n",
    "tsne_data_map = openTSNE.TSNE(metric=\"cosine\", n_iter=1000, random_state=42).fit(wikipedia_vectors)"
   ]
  },
  {
   "cell_type": "code",
   "execution_count": 12,
   "id": "12972f0d",
   "metadata": {},
   "outputs": [
    {
     "name": "stdout",
     "output_type": "stream",
     "text": [
      "CPU times: user 36.8 s, sys: 731 ms, total: 37.5 s\n",
      "Wall time: 4.48 s\n"
     ]
    }
   ],
   "source": [
    "%%time\n",
    "pca_data_map = sklearn.decomposition.PCA(n_components=2).fit_transform(wikipedia_vectors)"
   ]
  },
  {
   "cell_type": "code",
   "execution_count": 13,
   "id": "f961f880",
   "metadata": {},
   "outputs": [
    {
     "name": "stdout",
     "output_type": "stream",
     "text": [
      "running the python version...\n",
      "LR :  1\n",
      "CPU times: user 25min 56s, sys: 11.9 s, total: 26min 8s\n",
      "Wall time: 25min 37s\n"
     ]
    }
   ],
   "source": [
    "%%time\n",
    "mds_data_map = SQuaD_MDS.run_SQuaD_MDS(wikipedia_vectors, {'in python':True})"
   ]
  },
  {
   "cell_type": "code",
   "execution_count": 14,
   "id": "6867af60",
   "metadata": {},
   "outputs": [],
   "source": [
    "np.save(\"wikipedia_tsne_data_map_1.npy\", tsne_data_map)"
   ]
  },
  {
   "cell_type": "code",
   "execution_count": 15,
   "id": "e24d6560",
   "metadata": {},
   "outputs": [],
   "source": [
    "np.save(\"wikipedia_pca_data_map_1.npy\", pca_data_map)"
   ]
  },
  {
   "cell_type": "code",
   "execution_count": 16,
   "id": "f76939e2",
   "metadata": {},
   "outputs": [],
   "source": [
    "np.save(\"wikipedia_mds_data_map_1.npy\", mds_data_map)"
   ]
  },
  {
   "cell_type": "code",
   "execution_count": 17,
   "id": "7ff518ee",
   "metadata": {},
   "outputs": [
    {
     "name": "stdout",
     "output_type": "stream",
     "text": [
      "CPU times: user 26min 6s, sys: 27.7 s, total: 26min 33s\n",
      "Wall time: 26min 34s\n"
     ]
    }
   ],
   "source": [
    "%%time\n",
    "A = openTSNE.affinity.Uniform(wikipedia_vectors, symmetrize=\"max\", k_neighbors=100)"
   ]
  },
  {
   "cell_type": "code",
   "execution_count": 18,
   "id": "5d14676d",
   "metadata": {},
   "outputs": [
    {
     "name": "stdout",
     "output_type": "stream",
     "text": [
      "CPU times: user 8.86 s, sys: 421 ms, total: 9.28 s\n",
      "Wall time: 8.01 s\n"
     ]
    }
   ],
   "source": [
    "%%time\n",
    "le_data_map = openTSNE.initialization.spectral(A.P)"
   ]
  },
  {
   "cell_type": "code",
   "execution_count": 19,
   "id": "b36b4e7b",
   "metadata": {},
   "outputs": [
    {
     "name": "stdout",
     "output_type": "stream",
     "text": [
      "Calculating PHATE...\n",
      "  Running PHATE on 485859 observations and 768 variables.\n",
      "  Calculating graph and diffusion operator...\n",
      "    Calculating PCA...\n",
      "    Calculated PCA in 6.53 seconds.\n",
      "    Calculating KNN search...\n",
      "    Calculated KNN search in 1287.28 seconds.\n",
      "    Calculating affinities...\n"
     ]
    },
    {
     "name": "stderr",
     "output_type": "stream",
     "text": [
      "/Users/leland/anaconda3/envs/phate/lib/python3.11/site-packages/graphtools/graphs.py:290: RuntimeWarning: Detected zero distance between 48 pairs of samples. Consider removing duplicates to avoid errors in downstream processing.\n",
      "  warnings.warn(\n"
     ]
    },
    {
     "name": "stdout",
     "output_type": "stream",
     "text": [
      "    Calculated affinities in 1.02 seconds.\n",
      "  Calculated graph and diffusion operator in 1295.00 seconds.\n",
      "  Calculating landmark operator...\n",
      "    Calculating SVD...\n",
      "    Calculated SVD in 30.57 seconds.\n",
      "    Calculating KMeans...\n",
      "    Calculated KMeans in 64.32 seconds.\n",
      "  Calculated landmark operator in 125.02 seconds.\n",
      "  Calculating optimal t...\n",
      "    Automatically selected t = 26\n",
      "  Calculated optimal t in 149.71 seconds.\n",
      "  Calculating diffusion potential...\n",
      "  Calculated diffusion potential in 34.51 seconds.\n",
      "  Calculating metric MDS...\n",
      "  Calculated metric MDS in 158.53 seconds.\n",
      "Calculated PHATE in 1762.80 seconds.\n",
      "CPU times: user 1h 8s, sys: 1min 14s, total: 1h 1min 22s\n",
      "Wall time: 29min 22s\n"
     ]
    }
   ],
   "source": [
    "%%time\n",
    "phate_data_map = phate.PHATE(n_pca=10, n_landmark=10_000).fit_transform(wikipedia_vectors)"
   ]
  },
  {
   "cell_type": "code",
   "execution_count": 20,
   "id": "b0d96ed6",
   "metadata": {},
   "outputs": [],
   "source": [
    "np.save(\"wikipedia_le_data_map_1.npy\", le_data_map)"
   ]
  },
  {
   "cell_type": "code",
   "execution_count": 21,
   "id": "990f6d89",
   "metadata": {},
   "outputs": [],
   "source": [
    "np.save(\"wikipedia_phate_data_map_1.npy\", phate_data_map)"
   ]
  },
  {
   "cell_type": "code",
   "execution_count": 22,
   "id": "2fe81928",
   "metadata": {},
   "outputs": [
    {
     "name": "stderr",
     "output_type": "stream",
     "text": [
      "/Users/leland/anaconda3/envs/phate/lib/python3.11/site-packages/umap/umap_.py:1943: UserWarning: n_jobs value -1 overridden to 1 by setting random_state. Use no seed for parallelism.\n",
      "  warn(f\"n_jobs value {self.n_jobs} overridden to 1 by setting random_state. Use no seed for parallelism.\")\n"
     ]
    }
   ],
   "source": [
    "umap_data_map = umap.UMAP(metric=\"cosine\", random_state=42, n_epochs=500).fit_transform(wikipedia_vectors)"
   ]
  },
  {
   "cell_type": "code",
   "execution_count": 23,
   "id": "7e7e342b",
   "metadata": {},
   "outputs": [],
   "source": [
    "np.save(\"wikipedia_umap_data_map_1.npy\", umap_data_map)"
   ]
  },
  {
   "cell_type": "code",
   "execution_count": null,
   "id": "e5f32d2f",
   "metadata": {},
   "outputs": [],
   "source": []
  }
 ],
 "metadata": {
  "kernelspec": {
   "display_name": "Python [conda env:phate]",
   "language": "python",
   "name": "conda-env-phate-py"
  },
  "language_info": {
   "codemirror_mode": {
    "name": "ipython",
    "version": 3
   },
   "file_extension": ".py",
   "mimetype": "text/x-python",
   "name": "python",
   "nbconvert_exporter": "python",
   "pygments_lexer": "ipython3",
   "version": "3.11.9"
  }
 },
 "nbformat": 4,
 "nbformat_minor": 5
}
